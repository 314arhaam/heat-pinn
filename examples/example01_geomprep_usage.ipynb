{
 "cells": [
  {
   "cell_type": "code",
   "execution_count": null,
   "metadata": {},
   "outputs": [],
   "source": [
    "from utils.geomprep import Geometry2D\n",
    "from shapely import Polygon, Point"
   ]
  },
  {
   "cell_type": "code",
   "execution_count": null,
   "metadata": {},
   "outputs": [],
   "source": [
    "# create a polygon\n",
    "p1 = Polygon([[-1, -1], [-1, +1], [+1, +1], [+1, -1], [-1, -1]])\n",
    "# create a circle\n",
    "c1 = Point(0, -0.5).buffer(0.3)\n",
    "# bore the circle inside the polygon\n",
    "geom = p1.difference(c1)\n",
    "# show the *.svg\n",
    "geom\n",
    "# create Geometry2D object\n",
    "G = Geometry2D(geom)\n",
    "# make boundary; 100 points\n",
    "G.makeBoundary(100)\n",
    "# make domain; 500 points\n",
    "G.makeDomain(500)\n",
    "# show scatter plot\n",
    "G.plot()"
   ]
  }
 ],
 "metadata": {
  "language_info": {
   "name": "python"
  }
 },
 "nbformat": 4,
 "nbformat_minor": 2
}
